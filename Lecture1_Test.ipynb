{
 "cells": [
  {
   "cell_type": "code",
   "execution_count": null,
   "id": "953d0303",
   "metadata": {},
   "outputs": [],
   "source": [
    "print(\"Hello World\")"
   ]
  },
  {
   "cell_type": "code",
   "execution_count": null,
   "id": "45463da0",
   "metadata": {},
   "outputs": [],
   "source": [
    "a=1"
   ]
  },
  {
   "cell_type": "code",
   "execution_count": null,
   "id": "1b4d4f94",
   "metadata": {},
   "outputs": [],
   "source": [
    "a=a+1"
   ]
  },
  {
   "cell_type": "code",
   "execution_count": null,
   "id": "4af8ebed",
   "metadata": {},
   "outputs": [],
   "source": [
    "print(a)"
   ]
  }
 ],
 "metadata": {
  "kernelspec": {
   "display_name": "Python 3 (ipykernel)",
   "language": "python",
   "name": "python3"
  },
  "language_info": {
   "codemirror_mode": {
    "name": "ipython",
    "version": 3
   },
   "file_extension": ".py",
   "mimetype": "text/x-python",
   "name": "python",
   "nbconvert_exporter": "python",
   "pygments_lexer": "ipython3",
   "version": "3.9.13"
  }
 },
 "nbformat": 4,
 "nbformat_minor": 5
}
